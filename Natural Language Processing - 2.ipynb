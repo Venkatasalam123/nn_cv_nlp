{
 "cells": [
  {
   "cell_type": "markdown",
   "metadata": {},
   "source": [
    "## Import Required Libraries"
   ]
  },
  {
   "cell_type": "code",
   "execution_count": 1,
   "metadata": {},
   "outputs": [],
   "source": [
    "import tensorflow as tf\n",
    "from tensorflow.keras.datasets import imdb\n",
    "from tensorflow.keras.preprocessing.sequence import pad_sequences\n",
    "import pandas as pd\n",
    "import numpy as np\n",
    "from tensorflow.keras.models import Sequential\n",
    "from tensorflow.keras.layers import Embedding, Dense, LSTM, SpatialDropout1D"
   ]
  },
  {
   "cell_type": "markdown",
   "metadata": {},
   "source": [
    "## Load the data"
   ]
  },
  {
   "cell_type": "code",
   "execution_count": 2,
   "metadata": {},
   "outputs": [],
   "source": [
    "(X_train, y_train), (X_test, y_test) = imdb.load_data(num_words = 10000)"
   ]
  },
  {
   "cell_type": "markdown",
   "metadata": {},
   "source": [
    "## Look into the size of the data"
   ]
  },
  {
   "cell_type": "code",
   "execution_count": 3,
   "metadata": {},
   "outputs": [
    {
     "name": "stdout",
     "output_type": "stream",
     "text": [
      "(25000,)\n",
      "(25000,)\n",
      "(25000,)\n",
      "(25000,)\n"
     ]
    }
   ],
   "source": [
    "print(X_train.shape)\n",
    "print(X_test.shape)\n",
    "print(y_train.shape)\n",
    "print(y_test.shape)"
   ]
  },
  {
   "cell_type": "markdown",
   "metadata": {},
   "source": [
    "## Take only the first 20 words from each review to speed up the training process"
   ]
  },
  {
   "cell_type": "code",
   "execution_count": 4,
   "metadata": {},
   "outputs": [],
   "source": [
    "X_train_modified = []\n",
    "for x in X_train:\n",
    "    X_train_modified.append(x[:20])\n",
    "    \n",
    "X_test_modified = []\n",
    "for x in X_test:\n",
    "    X_test_modified.append(x[:20])"
   ]
  },
  {
   "cell_type": "code",
   "execution_count": 5,
   "metadata": {},
   "outputs": [
    {
     "data": {
      "text/plain": [
       "20"
      ]
     },
     "execution_count": 5,
     "metadata": {},
     "output_type": "execute_result"
    }
   ],
   "source": [
    "len(X_train_modified[0])"
   ]
  },
  {
   "cell_type": "markdown",
   "metadata": {},
   "source": [
    "## Check if there is any review with less than 20 words and doo padding"
   ]
  },
  {
   "cell_type": "code",
   "execution_count": 6,
   "metadata": {},
   "outputs": [
    {
     "name": "stdout",
     "output_type": "stream",
     "text": [
      "19\n",
      "16\n",
      "11\n",
      "11\n",
      "19\n",
      "12\n",
      "15\n",
      "13\n",
      "18\n",
      "16\n",
      "16\n",
      "13\n",
      "16\n"
     ]
    }
   ],
   "source": [
    "for j in X_train_modified:\n",
    "    if len(j) != 20:\n",
    "        print(len(j))"
   ]
  },
  {
   "cell_type": "code",
   "execution_count": 7,
   "metadata": {},
   "outputs": [],
   "source": [
    "X_train_modified = pad_sequences(X_train_modified, maxlen = 20, padding='post')\n",
    "X_test_modified = pad_sequences(X_test_modified, maxlen = 20, padding='post')"
   ]
  },
  {
   "cell_type": "markdown",
   "metadata": {},
   "source": [
    "## Print the shape of features and labels"
   ]
  },
  {
   "cell_type": "code",
   "execution_count": 8,
   "metadata": {},
   "outputs": [
    {
     "name": "stdout",
     "output_type": "stream",
     "text": [
      "(25000, 20)\n",
      "(25000, 20)\n",
      "(25000,)\n",
      "(25000,)\n"
     ]
    }
   ],
   "source": [
    "print(X_train_modified.shape)\n",
    "print(X_test_modified.shape)\n",
    "print(y_train.shape)\n",
    "print(y_test.shape)"
   ]
  },
  {
   "cell_type": "code",
   "execution_count": 9,
   "metadata": {},
   "outputs": [
    {
     "name": "stdout",
     "output_type": "stream",
     "text": [
      "negative value in test data: 12500\n",
      "positive value in test data: 12500\n"
     ]
    }
   ],
   "source": [
    "print('negative value in test data: ' + str(len(y_test[y_test == 0])))\n",
    "print('positive value in test data: ' + str(len(y_test[y_test == 1])))"
   ]
  },
  {
   "cell_type": "code",
   "execution_count": 10,
   "metadata": {},
   "outputs": [
    {
     "name": "stdout",
     "output_type": "stream",
     "text": [
      "Feature: [   1   14   22   16   43  530  973 1622 1385   65  458 4468   66 3941\n",
      "    4  173   36  256    5   25]\n",
      "Label: 1\n"
     ]
    }
   ],
   "source": [
    "print('Feature: ' + str(X_train_modified[0]))\n",
    "print('Label: ' + str(y_train[0]))"
   ]
  },
  {
   "cell_type": "code",
   "execution_count": 11,
   "metadata": {},
   "outputs": [],
   "source": [
    "word_index = imdb.get_word_index()"
   ]
  },
  {
   "cell_type": "code",
   "execution_count": 12,
   "metadata": {},
   "outputs": [],
   "source": [
    "index_word = {v: k for k, v in word_index.items()}"
   ]
  },
  {
   "cell_type": "code",
   "execution_count": 13,
   "metadata": {},
   "outputs": [
    {
     "name": "stdout",
     "output_type": "stream",
     "text": [
      "Feature: the as you with out themselves powerful lets loves their becomes reaching had journalist of lot from anyone to have\n",
      "Label: 1\n"
     ]
    }
   ],
   "source": [
    "sentence = []\n",
    "for x in X_train_modified[0]:\n",
    "    sentence.append(index_word[x])\n",
    "\n",
    "print('Feature: ' + ' '.join(sentence))\n",
    "print('Label: ' + str(y_train[0]))"
   ]
  },
  {
   "cell_type": "code",
   "execution_count": 14,
   "metadata": {},
   "outputs": [
    {
     "name": "stdout",
     "output_type": "stream",
     "text": [
      "Feature: the thought solid thought senator do making to is spot nomination assumed while he of jack in where picked as\n",
      "Label: 0\n"
     ]
    }
   ],
   "source": [
    "sentence = []\n",
    "for x in X_train_modified[1]:\n",
    "    sentence.append(index_word[x])\n",
    "\n",
    "print('Feature: ' + ' '.join(sentence))\n",
    "print('Label: ' + str(y_train[1]))"
   ]
  },
  {
   "cell_type": "code",
   "execution_count": 15,
   "metadata": {},
   "outputs": [
    {
     "name": "stdout",
     "output_type": "stream",
     "text": [
      "Feature: the wonder own as by is sequence i i and and to of hollywood br of down shouting getting boring\n",
      "Label: 0\n"
     ]
    }
   ],
   "source": [
    "sentence = []\n",
    "for x in X_test_modified[0]:\n",
    "    sentence.append(index_word[x])\n",
    "\n",
    "print('Feature: ' + ' '.join(sentence))\n",
    "print('Label: ' + str(y_test[0]))"
   ]
  },
  {
   "cell_type": "code",
   "execution_count": 16,
   "metadata": {},
   "outputs": [
    {
     "name": "stdout",
     "output_type": "stream",
     "text": [
      "Feature: the as you world's is quite br mankind most that quest are chase to being quickly of little it time\n",
      "Label: 1\n"
     ]
    }
   ],
   "source": [
    "sentence = []\n",
    "for x in X_test_modified[1]:\n",
    "    sentence.append(index_word[x])\n",
    "\n",
    "print('Feature: ' + ' '.join(sentence))\n",
    "print('Label: ' + str(y_test[1]))"
   ]
  },
  {
   "cell_type": "code",
   "execution_count": 17,
   "metadata": {},
   "outputs": [],
   "source": [
    "y_train_modifed = pd.get_dummies(y_train).values\n",
    "y_test_modified = pd.get_dummies(y_test).values"
   ]
  },
  {
   "cell_type": "markdown",
   "metadata": {},
   "source": [
    "## LSTM"
   ]
  },
  {
   "cell_type": "code",
   "execution_count": 18,
   "metadata": {},
   "outputs": [
    {
     "name": "stdout",
     "output_type": "stream",
     "text": [
      "Model: \"sequential\"\n",
      "_________________________________________________________________\n",
      "Layer (type)                 Output Shape              Param #   \n",
      "=================================================================\n",
      "embedding (Embedding)        (None, 20, 128)           1280000   \n",
      "_________________________________________________________________\n",
      "spatial_dropout1d (SpatialDr (None, 20, 128)           0         \n",
      "_________________________________________________________________\n",
      "lstm (LSTM)                  (None, 196)               254800    \n",
      "_________________________________________________________________\n",
      "dense (Dense)                (None, 2)                 394       \n",
      "=================================================================\n",
      "Total params: 1,535,194\n",
      "Trainable params: 1,535,194\n",
      "Non-trainable params: 0\n",
      "_________________________________________________________________\n",
      "None\n"
     ]
    }
   ],
   "source": [
    "embed_dim = 128\n",
    "lstm_out = 196\n",
    "\n",
    "model = Sequential()\n",
    "model.add(Embedding(10000, embed_dim, input_length = 20))\n",
    "model.add(SpatialDropout1D(0.4))\n",
    "model.add(LSTM(lstm_out, dropout=0.2, recurrent_dropout=0.2))\n",
    "model.add(Dense(2,activation='softmax'))\n",
    "model.compile(loss = 'categorical_crossentropy', optimizer='adam',metrics = ['accuracy'])\n",
    "print(model.summary())"
   ]
  },
  {
   "cell_type": "code",
   "execution_count": 19,
   "metadata": {},
   "outputs": [
    {
     "name": "stdout",
     "output_type": "stream",
     "text": [
      "Epoch 1/10\n",
      "49/49 - 13s - loss: 0.6394 - accuracy: 0.6204 - val_loss: 0.5739 - val_accuracy: 0.6895\n",
      "Epoch 2/10\n",
      "49/49 - 11s - loss: 0.5083 - accuracy: 0.7474 - val_loss: 0.5672 - val_accuracy: 0.6959\n",
      "Epoch 3/10\n",
      "49/49 - 11s - loss: 0.4574 - accuracy: 0.7843 - val_loss: 0.5799 - val_accuracy: 0.6994\n",
      "Epoch 4/10\n",
      "49/49 - 13s - loss: 0.4161 - accuracy: 0.8070 - val_loss: 0.5932 - val_accuracy: 0.6924\n",
      "Epoch 5/10\n",
      "49/49 - 12s - loss: 0.3827 - accuracy: 0.8246 - val_loss: 0.6364 - val_accuracy: 0.6892\n",
      "Epoch 6/10\n",
      "49/49 - 12s - loss: 0.3521 - accuracy: 0.8423 - val_loss: 0.6878 - val_accuracy: 0.6849\n",
      "Epoch 7/10\n",
      "49/49 - 12s - loss: 0.3207 - accuracy: 0.8613 - val_loss: 0.7140 - val_accuracy: 0.6799\n",
      "Epoch 8/10\n",
      "49/49 - 12s - loss: 0.2965 - accuracy: 0.8723 - val_loss: 0.7686 - val_accuracy: 0.6770\n",
      "Epoch 9/10\n",
      "49/49 - 12s - loss: 0.2704 - accuracy: 0.8839 - val_loss: 0.8883 - val_accuracy: 0.6769\n",
      "Epoch 10/10\n",
      "49/49 - 12s - loss: 0.2491 - accuracy: 0.8934 - val_loss: 0.9145 - val_accuracy: 0.6713\n"
     ]
    },
    {
     "data": {
      "text/plain": [
       "<tensorflow.python.keras.callbacks.History at 0x191b5a06b20>"
      ]
     },
     "execution_count": 19,
     "metadata": {},
     "output_type": "execute_result"
    }
   ],
   "source": [
    "batch_size = 512\n",
    "model.fit(X_train_modified, y_train_modifed, epochs = 10, batch_size=batch_size, verbose = 2, validation_data=(X_test_modified, y_test_modified))"
   ]
  },
  {
   "cell_type": "code",
   "execution_count": 20,
   "metadata": {},
   "outputs": [
    {
     "name": "stdout",
     "output_type": "stream",
     "text": [
      "782/782 [==============================] - 3s 4ms/step - loss: 0.9145 - accuracy: 0.6713\n",
      "0.9145311713218689\n",
      "0.671280026435852\n"
     ]
    }
   ],
   "source": [
    "score, acc = model.evaluate(X_test_modified, y_test_modified)\n",
    "print(score)\n",
    "print(acc)"
   ]
  },
  {
   "cell_type": "markdown",
   "metadata": {},
   "source": [
    "## Vectorize the data"
   ]
  },
  {
   "cell_type": "code",
   "execution_count": 21,
   "metadata": {},
   "outputs": [],
   "source": [
    "import numpy as np\n",
    "\n",
    "def one_hot_encode(sequences, dimension=10000):\n",
    "    # all zero matrix of shape (len(sequences), dimension)\n",
    "    result = np.zeros((len(sequences), dimension))\n",
    "    for i,sequence in enumerate(sequences):\n",
    "        result[i, sequence] = 1\n",
    "    return result\n",
    "\n",
    "x_tr = one_hot_encode(X_train)\n",
    "x_te = one_hot_encode(X_test)\n",
    "\n",
    "y_tr = np.asarray(y_train).astype('float32')\n",
    "y_te = np.asarray(y_test).astype('float32')"
   ]
  },
  {
   "cell_type": "markdown",
   "metadata": {},
   "source": [
    "### Build Model"
   ]
  },
  {
   "cell_type": "code",
   "execution_count": 22,
   "metadata": {},
   "outputs": [],
   "source": [
    "epochs = 10\n",
    "\n",
    "model  = Sequential()\n",
    "model.add(Dense(16, activation='relu', input_shape=(10000,)))\n",
    "model.add(Dense(16, activation='relu'))\n",
    "model.add(Dense(16, activation='relu'))\n",
    "model.add(Dense(1, activation='sigmoid'))\n",
    "\n",
    "model.compile(optimizer='rmsprop',\n",
    "             loss='binary_crossentropy',\n",
    "             metrics=['acc'])\n"
   ]
  },
  {
   "cell_type": "code",
   "execution_count": 23,
   "metadata": {},
   "outputs": [
    {
     "name": "stdout",
     "output_type": "stream",
     "text": [
      "Epoch 1/10\n",
      "49/49 [==============================] - 7s 137ms/step - loss: 0.4471 - acc: 0.8170 - val_loss: 0.3285 - val_acc: 0.8758\n",
      "Epoch 2/10\n",
      "49/49 [==============================] - 1s 26ms/step - loss: 0.2504 - acc: 0.9095 - val_loss: 0.2930 - val_acc: 0.8834\n",
      "Epoch 3/10\n",
      "49/49 [==============================] - 1s 24ms/step - loss: 0.1930 - acc: 0.9302 - val_loss: 0.2925 - val_acc: 0.8840\n",
      "Epoch 4/10\n",
      "49/49 [==============================] - 1s 24ms/step - loss: 0.1588 - acc: 0.9423 - val_loss: 0.3394 - val_acc: 0.8710\n",
      "Epoch 5/10\n",
      "49/49 [==============================] - 1s 23ms/step - loss: 0.1337 - acc: 0.9517 - val_loss: 0.3408 - val_acc: 0.8724\n",
      "Epoch 6/10\n",
      "49/49 [==============================] - 1s 22ms/step - loss: 0.1113 - acc: 0.9624 - val_loss: 0.3648 - val_acc: 0.8717\n",
      "Epoch 7/10\n",
      "49/49 [==============================] - 1s 23ms/step - loss: 0.0939 - acc: 0.9681 - val_loss: 0.3938 - val_acc: 0.8702\n",
      "Epoch 8/10\n",
      "49/49 [==============================] - 1s 24ms/step - loss: 0.0770 - acc: 0.9754 - val_loss: 0.4404 - val_acc: 0.8621\n",
      "Epoch 9/10\n",
      "49/49 [==============================] - 1s 23ms/step - loss: 0.0609 - acc: 0.9813 - val_loss: 0.4633 - val_acc: 0.8639\n",
      "Epoch 10/10\n",
      "49/49 [==============================] - 1s 23ms/step - loss: 0.0525 - acc: 0.9836 - val_loss: 0.5001 - val_acc: 0.8624\n",
      "782/782 [==============================] - 1s 1ms/step - loss: 0.5001 - acc: 0.8624\n",
      "0.5001030564308167\n",
      "0.8623600006103516\n"
     ]
    }
   ],
   "source": [
    "history = model.fit(x_tr,\n",
    "                    y_tr,\n",
    "                    epochs=epochs,\n",
    "                    batch_size=512,\n",
    "                    validation_data=(x_te,y_te))\n",
    "\n",
    "loss, acc = model.evaluate(x_te,y_te)\n",
    "print(loss)\n",
    "print(acc)"
   ]
  },
  {
   "cell_type": "markdown",
   "metadata": {},
   "source": [
    "## Plot training and validation accuracy vs epochs"
   ]
  },
  {
   "cell_type": "code",
   "execution_count": 24,
   "metadata": {},
   "outputs": [
    {
     "data": {
      "image/png": "[encoded data removed]",
      "text/plain": [
       "<Figure size 432x288 with 1 Axes>"
      ]
     },
     "metadata": {
      "needs_background": "light"
     },
     "output_type": "display_data"
    }
   ],
   "source": [
    "import matplotlib.pyplot as plt\n",
    "\n",
    "plt.clf()\n",
    "\n",
    "acc_values = history.history['acc']\n",
    "val_acc_values = history.history['val_acc']\n",
    "plt.plot(range(1, epochs + 1), acc_values, label='Training acc')\n",
    "plt.plot(range(1, epochs + 1), val_acc_values, label='Validation acc')\n",
    "plt.title('Training and validation accuracy')\n",
    "plt.xlabel('Epochs')\n",
    "plt.ylabel('Loss')\n",
    "plt.legend()\n",
    "plt.show()"
   ]
  },
  {
   "cell_type": "markdown",
   "metadata": {},
   "source": [
    "#### After 2 epochs it seems to be overfitting"
   ]
  },
  {
   "cell_type": "markdown",
   "metadata": {},
   "source": [
    "## Find pos % and neg % for first 1000 test cases"
   ]
  },
  {
   "cell_type": "code",
   "execution_count": 72,
   "metadata": {},
   "outputs": [
    {
     "name": "stdout",
     "output_type": "stream",
     "text": [
      "pos_acc 85.65400843881856 %\n",
      "neg_acc 87.26235741444867 %\n"
     ]
    }
   ],
   "source": [
    "pos_total, neg_total, pos_correct, neg_correct = 0, 0, 0, 0\n",
    "\n",
    "\n",
    "for x in range(1000):\n",
    "    result = np.round(model.predict(x_te[x].reshape(1,x_te.shape[1]),batch_size=1)[0], 0)[0]\n",
    "    if result == y_te[x]:\n",
    "        if y_te[x] == 0:\n",
    "            neg_correct += 1\n",
    "        else:\n",
    "            pos_correct += 1\n",
    "            \n",
    "    if y_te[x] == 0:\n",
    "        neg_total += 1\n",
    "    else:\n",
    "        pos_total += 1\n",
    "\n",
    "print(\"pos_acc\", pos_correct/pos_total*100, \"%\")\n",
    "print(\"neg_acc\", neg_correct/neg_total*100, \"%\")"
   ]
  },
  {
   "cell_type": "markdown",
   "metadata": {},
   "source": [
    "## Predict on one sample"
   ]
  },
  {
   "cell_type": "code",
   "execution_count": 73,
   "metadata": {},
   "outputs": [
    {
     "name": "stdout",
     "output_type": "stream",
     "text": [
      "Feature: the wonder own as by is sequence i i and and to of hollywood br of down shouting getting boring\n",
      "Label: 0\n"
     ]
    }
   ],
   "source": [
    "sentence = []\n",
    "for x in X_test_modified[0]:\n",
    "    sentence.append(index_word[x])\n",
    "\n",
    "print('Feature: ' + ' '.join(sentence))\n",
    "print('Label: ' + str(y_test[0]))"
   ]
  },
  {
   "cell_type": "code",
   "execution_count": 79,
   "metadata": {},
   "outputs": [
    {
     "data": {
      "text/plain": [
       "array([0., 1., 1., ..., 0., 0., 0.])"
      ]
     },
     "execution_count": 79,
     "metadata": {},
     "output_type": "execute_result"
    }
   ],
   "source": [
    "x_te[0]"
   ]
  },
  {
   "cell_type": "code",
   "execution_count": 80,
   "metadata": {},
   "outputs": [
    {
     "name": "stdout",
     "output_type": "stream",
     "text": [
      "0\n"
     ]
    }
   ],
   "source": [
    "# test = pad_sequences(X_test_modified[0:1], maxlen = 20, padding='post')\n",
    "output = np.argmax(model.predict(x_te[0].reshape(1,x_te.shape[1]),batch_size=1)[0])\n",
    "print(output)"
   ]
  },
  {
   "cell_type": "markdown",
   "metadata": {},
   "source": [
    "#### Output is 0 (negative) in both prediction and actual"
   ]
  }
 ],
 "metadata": {
  "kernelspec": {
   "display_name": "Python 3",
   "language": "python",
   "name": "python3"
  },
  "language_info": {
   "codemirror_mode": {
    "name": "ipython",
    "version": 3
   },
   "file_extension": ".py",
   "mimetype": "text/x-python",
   "name": "python",
   "nbconvert_exporter": "python",
   "pygments_lexer": "ipython3",
   "version": "3.8.3"
  }
 },
 "nbformat": 4,
 "nbformat_minor": 4
}
